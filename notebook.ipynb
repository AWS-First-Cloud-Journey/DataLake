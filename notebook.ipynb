{
	"metadata": {
		"kernelspec": {
			"name": "glue_pyspark",
			"display_name": "Glue PySpark",
			"language": "python"
		},
		"language_info": {
			"name": "Python_Glue_Session",
			"mimetype": "text/x-python",
			"codemirror_mode": {
				"name": "python",
				"version": 3
			},
			"pygments_lexer": "python3",
			"file_extension": ".py"
		}
	},
	"nbformat_minor": 4,
	"nbformat": 4,
	"cells": [
		{
			"cell_type": "markdown",
			"source": "\n# Glue Studio Notebook\nYou are now running a **Glue Studio** notebook; before you can start using your notebook you *must* start an interactive session.\n\n## Available Magics\n|          Magic              |   Type       |                                                                        Description                                                                        |\n|-----------------------------|--------------|-----------------------------------------------------------------------------------------------------------------------------------------------------------|\n| %%configure                 |  Dictionary  |  A json-formatted dictionary consisting of all configuration parameters for a session. Each parameter can be specified here or through individual magics. |\n| %profile                    |  String      |  Specify a profile in your aws configuration to use as the credentials provider.                                                                          |\n| %iam_role                   |  String      |  Specify an IAM role to execute your session with.                                                                                                        |\n| %region                     |  String      |  Specify the AWS region in which to initialize a session.                                                                                                 |\n| %session_id                 |  String      |  Returns the session ID for the running session.                                                                                                          |\n| %connections                |  List        |  Specify a comma separated list of connections to use in the session.                                                                                     |\n| %additional_python_modules  |  List        |  Comma separated list of pip packages, s3 paths or private pip arguments.                                                                                 |\n| %extra_py_files             |  List        |  Comma separated list of additional Python files from S3.                                                                                                 |\n| %extra_jars                 |  List        |  Comma separated list of additional Jars to include in the cluster.                                                                                       |\n| %number_of_workers          |  Integer     |  The number of workers of a defined worker_type that are allocated when a job runs. worker_type must be set too.                                          |\n| %glue_version               |  String      |  The version of Glue to be used by this session. Currently, the only valid options are 2.0 and 3.0 (eg: %glue_version 2.0).                               |\n| %security_config            |  String      |  Define a security configuration to be used with this session.                                                                                            |\n| %sql                        |  String      |  Run SQL code. All lines after the initial %%sql magic will be passed as part of the SQL code.                                                            |\n| %streaming                  |  String      |  Changes the session type to Glue Streaming.                                                                                                              |\n| %etl                        |  String      |  Changes the session type to Glue ETL.                                                                                                                    |\n| %status                     |              |  Returns the status of the current Glue session including its duration, configuration and executing user / role.                                          |\n| %stop_session               |              |  Stops the current session.                                                                                                                               |\n| %list_sessions              |              |  Lists all currently running sessions by name and ID.                                                                                                     |\n| %worker_type                |  String      |  Standard, G.1X, *or* G.2X. number_of_workers must be set too. Default is G.1X.                                                                           |\n| %spark_conf                 |  String      |  Specify custom spark configurations for your session. E.g. %spark_conf spark.serializer=org.apache.spark.serializer.KryoSerializer.                      |",
			"metadata": {
				"editable": false,
				"deletable": false,
				"trusted": true
			}
		},
		{
			"cell_type": "code",
			"source": "import sys\nfrom awsglue.transforms import *\nfrom awsglue.utils import getResolvedOptions\nfrom pyspark.context import SparkContext\nfrom awsglue.context import GlueContext\nfrom awsglue.job import Job\n\nsc = SparkContext.getOrCreate()\nglueContext = GlueContext(sc)\nspark = glueContext.spark_session\njob = Job(glueContext)",
			"metadata": {
				"editable": true,
				"trusted": true
			},
			"execution_count": 1,
			"outputs": [
				{
					"name": "stdout",
					"text": "Welcome to the Glue Interactive Sessions Kernel\nFor more information on available magic commands, please type %help in any new cell.\n\nPlease view our Getting Started page to access the most up-to-date information on the Interactive Sessions kernel: https://docs.aws.amazon.com/glue/latest/dg/interactive-sessions.html\nInstalled kernel version: 0.37.0 \nAuthenticating with environment variables and user-defined glue_role_arn: arn:aws:iam::148922931563:role/AdminRole\nTrying to create a Glue session for the kernel.\nWorker Type: G.1X\nNumber of Workers: 5\nSession ID: 3b03815e-2acd-430a-b919-a16e4d4bfcac\nJob Type: glueetl\nApplying the following default arguments:\n--glue_kernel_version 0.37.0\n--enable-glue-datacatalog true\nWaiting for session 3b03815e-2acd-430a-b919-a16e4d4bfcac to get into ready status...\nSession 3b03815e-2acd-430a-b919-a16e4d4bfcac has been created.\n\n",
					"output_type": "stream"
				}
			]
		},
		{
			"cell_type": "code",
			"source": "\nimport sys\nfrom awsglue.transforms import *\nfrom awsglue.utils import getResolvedOptions\nfrom pyspark.context import SparkContext\nfrom awsglue.context import GlueContext\nfrom awsglue.job import Job\nimport boto3\nimport time\n",
			"metadata": {
				"trusted": true
			},
			"execution_count": 2,
			"outputs": [
				{
					"name": "stdout",
					"text": "\n",
					"output_type": "stream"
				}
			]
		},
		{
			"cell_type": "code",
			"source": "\nglueContext = GlueContext(SparkContext.getOrCreate())\nspark = glueContext.spark_session\n",
			"metadata": {
				"trusted": true
			},
			"execution_count": 3,
			"outputs": [
				{
					"name": "stdout",
					"text": "\n",
					"output_type": "stream"
				}
			]
		},
		{
			"cell_type": "code",
			"source": "raw_data = glueContext.create_dynamic_frame.from_catalog(database = \"summitdb\", table_name = \"raw2023\")\n\nreference_data = glueContext.create_dynamic_frame.from_catalog(database = \"summitdb\", table_name = \"reference_data\")",
			"metadata": {
				"trusted": true
			},
			"execution_count": 4,
			"outputs": [
				{
					"name": "stdout",
					"text": "\n",
					"output_type": "stream"
				}
			]
		},
		{
			"cell_type": "code",
			"source": "raw_data.printSchema()",
			"metadata": {
				"trusted": true
			},
			"execution_count": 5,
			"outputs": [
				{
					"name": "stdout",
					"text": "root\n|-- uuid: string\n|-- device_ts: string\n|-- device_id: int\n|-- device_temp: int\n|-- track_id: int\n|-- activity_type: string\n|-- partition_0: string\n|-- partition_1: string\n|-- partition_2: string\n",
					"output_type": "stream"
				}
			]
		},
		{
			"cell_type": "code",
			"source": "reference_data.printSchema()",
			"metadata": {
				"trusted": true
			},
			"execution_count": 6,
			"outputs": [
				{
					"name": "stdout",
					"text": "root\n|-- track_id: string\n|-- track_name: string\n|-- artist_name: string\n",
					"output_type": "stream"
				}
			]
		},
		{
			"cell_type": "code",
			"source": "print('raw_data (Count) = ' + str(raw_data.count()))\nprint('reference_data (Count) = ' + str(reference_data.count()))",
			"metadata": {
				"trusted": true
			},
			"execution_count": 7,
			"outputs": [
				{
					"name": "stdout",
					"text": "raw_data (Count) = 105000\nreference_data (Count) = 100\n",
					"output_type": "stream"
				}
			]
		},
		{
			"cell_type": "code",
			"source": "raw_data.toDF().show(5)",
			"metadata": {
				"trusted": true
			},
			"execution_count": 8,
			"outputs": [
				{
					"name": "stdout",
					"text": "+--------------------+--------------------+---------+-----------+--------+-------------+-----------+-----------+-----------+\n|                uuid|           device_ts|device_id|device_temp|track_id|activity_type|partition_0|partition_1|partition_2|\n+--------------------+--------------------+---------+-----------+--------+-------------+-----------+-----------+-----------+\n|084404a8-0438-457...|2023-01-22 12:35:...|       25|         34|      25|    Traveling|         01|         22|         12|\n|c3bb0a21-41bc-4e4...|2023-01-22 12:35:...|       22|         32|      23|    Traveling|         01|         22|         12|\n|e5ca0c66-3394-4e8...|2023-01-22 12:35:...|       29|         32|      29|    Traveling|         01|         22|         12|\n|f4eb814b-2906-4d7...|2023-01-22 12:35:...|       35|         32|      27|    Traveling|         01|         22|         12|\n|157c32d8-0599-421...|2023-01-22 12:35:...|       25|         32|      27|    Traveling|         01|         22|         12|\n+--------------------+--------------------+---------+-----------+--------+-------------+-----------+-----------+-----------+\nonly showing top 5 rows\n",
					"output_type": "stream"
				}
			]
		},
		{
			"cell_type": "code",
			"source": "reference_data.toDF().show(5)",
			"metadata": {
				"trusted": true
			},
			"execution_count": 9,
			"outputs": [
				{
					"name": "stdout",
					"text": "+--------+-----------+--------------------+\n|track_id| track_name|         artist_name|\n+--------+-----------+--------------------+\n|       1| God's Plan|               Drake|\n|       2|Meant To Be|Bebe Rexha & Flor...|\n|       3|    Perfect|          Ed Sheeran|\n|       4|    Finesse|Bruno Mars & Cardi B|\n|       5|     Psycho|Post Malone Featu...|\n+--------+-----------+--------------------+\nonly showing top 5 rows\n",
					"output_type": "stream"
				}
			]
		},
		{
			"cell_type": "code",
			"source": "# Adding raw_data as a temporary table in sql context for spark\n\nraw_data.toDF().createOrReplaceTempView(\"temp_raw_data\")\n\n# Running the SQL statement which \nrunningDF = spark.sql(\"select * from temp_raw_data where activity_type = 'Running'\")\nprint(\"Running (count) : \" + str(runningDF.count()))\n\nrunningDF.show(5)\n",
			"metadata": {
				"trusted": true
			},
			"execution_count": 10,
			"outputs": [
				{
					"name": "stdout",
					"text": "Running (count) : 10546\n+--------------------+--------------------+---------+-----------+--------+-------------+-----------+-----------+-----------+\n|                uuid|           device_ts|device_id|device_temp|track_id|activity_type|partition_0|partition_1|partition_2|\n+--------------------+--------------------+---------+-----------+--------+-------------+-----------+-----------+-----------+\n|710cd618-79b9-43b...|2023-01-22 12:35:...|       49|         32|      11|      Running|         01|         22|         12|\n|66a9ea56-a161-4b1...|2023-01-22 12:35:...|       33|         28|      26|      Running|         01|         22|         12|\n|4480d3d0-1ec5-48d...|2023-01-22 12:35:...|       34|         34|      22|      Running|         01|         22|         12|\n|cc6ef83a-ef67-4aa...|2023-01-22 12:35:...|       45|         32|      19|      Running|         01|         22|         12|\n|f31193cd-21d9-47a...|2023-01-22 12:35:...|       12|         32|      16|      Running|         01|         22|         12|\n+--------------------+--------------------+---------+-----------+--------+-------------+-----------+-----------+-----------+\nonly showing top 5 rows\n",
					"output_type": "stream"
				}
			]
		},
		{
			"cell_type": "code",
			"source": "# Running the SQL statement which \nworkingDF = spark.sql(\"select * from temp_raw_data where activity_type = 'Working'\")\nprint(\"Working (count) : \" + str(workingDF.count()))\n\nworkingDF.show(5)\n",
			"metadata": {
				"trusted": true
			},
			"execution_count": 11,
			"outputs": [
				{
					"name": "stdout",
					"text": "Working (count) : 21051\n+--------------------+--------------------+---------+-----------+--------+-------------+-----------+-----------+-----------+\n|                uuid|           device_ts|device_id|device_temp|track_id|activity_type|partition_0|partition_1|partition_2|\n+--------------------+--------------------+---------+-----------+--------+-------------+-----------+-----------+-----------+\n|4ba13649-70b2-433...|2023-01-22 12:35:...|       41|         32|      11|      Working|         01|         22|         12|\n|7a670cc5-c6e0-420...|2023-01-22 12:35:...|       27|         32|      25|      Working|         01|         22|         12|\n|2b936660-640a-462...|2023-01-22 12:35:...|       29|         40|      25|      Working|         01|         22|         12|\n|5883205c-e984-4ac...|2023-01-22 12:35:...|       37|         40|      30|      Working|         01|         22|         12|\n|7abb64f1-7d28-440...|2023-01-22 12:35:...|       14|         40|      10|      Working|         01|         22|         12|\n+--------------------+--------------------+---------+-----------+--------+-------------+-----------+-----------+-----------+\nonly showing top 5 rows\n",
					"output_type": "stream"
				}
			]
		},
		{
			"cell_type": "code",
			"source": "\ndef filter_function(dynamicRecord):\n\tif dynamicRecord['activity_type'] == 'Running':\n\t\treturn True\n\telse:\n\t\treturn False\nrunningDF = Filter.apply(frame = raw_data, f = filter_function)\n\nprint(\"Running (count) : \" + str(runningDF.count()))",
			"metadata": {
				"trusted": true
			},
			"execution_count": 12,
			"outputs": [
				{
					"name": "stdout",
					"text": "Running (count) : 10546\n",
					"output_type": "stream"
				}
			]
		},
		{
			"cell_type": "code",
			"source": "\nworkingDF = Filter.apply(frame = raw_data, f = lambda x:x['activity_type']=='Working')\n\nprint(\"Working (count) : \" + str(workingDF.count()))",
			"metadata": {
				"trusted": true
			},
			"execution_count": 13,
			"outputs": [
				{
					"name": "stdout",
					"text": "Working (count) : 21051\n",
					"output_type": "stream"
				}
			]
		},
		{
			"cell_type": "code",
			"source": "\njoined_data = Join.apply(raw_data,reference_data, 'track_id', 'track_id')\n",
			"metadata": {
				"trusted": true
			},
			"execution_count": 14,
			"outputs": [
				{
					"name": "stdout",
					"text": "\n",
					"output_type": "stream"
				}
			]
		},
		{
			"cell_type": "code",
			"source": "joined_data.printSchema()",
			"metadata": {
				"trusted": true
			},
			"execution_count": 15,
			"outputs": [
				{
					"name": "stdout",
					"text": "root\n|-- track_id: string\n|-- partition_2: string\n|-- activity_type: string\n|-- .track_id: int\n|-- partition_1: string\n|-- device_temp: int\n|-- track_name: string\n|-- artist_name: string\n|-- device_ts: string\n|-- device_id: int\n|-- partition_0: string\n|-- uuid: string\n",
					"output_type": "stream"
				}
			]
		},
		{
			"cell_type": "code",
			"source": "\njoined_data_clean = DropFields.apply(frame = joined_data, paths = ['partition_0','partition_1','partition_2','partition_3'])\n\n",
			"metadata": {
				"trusted": true
			},
			"execution_count": 16,
			"outputs": [
				{
					"name": "stdout",
					"text": "\n",
					"output_type": "stream"
				}
			]
		},
		{
			"cell_type": "code",
			"source": "joined_data_clean.printSchema()",
			"metadata": {
				"trusted": true
			},
			"execution_count": 17,
			"outputs": [
				{
					"name": "stdout",
					"text": "root\n|-- track_id: string\n|-- activity_type: string\n|-- .track_id: int\n|-- device_temp: int\n|-- track_name: string\n|-- artist_name: string\n|-- device_ts: string\n|-- device_id: int\n|-- uuid: string\n",
					"output_type": "stream"
				}
			]
		},
		{
			"cell_type": "code",
			"source": "joined_data_clean.toDF().show(5)",
			"metadata": {
				"trusted": true
			},
			"execution_count": 18,
			"outputs": [
				{
					"name": "stdout",
					"text": "+--------+-------------+---------+-----------+----------+---------------+--------------------+---------+--------------------+\n|track_id|activity_type|.track_id|device_temp|track_name|    artist_name|           device_ts|device_id|                uuid|\n+--------+-------------+---------+-----------+----------+---------------+--------------------+---------+--------------------+\n|      22|    Traveling|       22|         32|   Thunder|Imagine Dragons|2023-01-22 12:35:...|       16|5f56514e-97ce-472...|\n|      22|    Traveling|       22|         32|   Thunder|Imagine Dragons|2023-01-22 12:35:...|       11|4445f190-ec53-436...|\n|      22|    Traveling|       22|         28|   Thunder|Imagine Dragons|2023-01-22 12:35:...|       29|a8ac8c21-2ec4-446...|\n|      22|    Traveling|       22|         28|   Thunder|Imagine Dragons|2023-01-22 12:35:...|       39|fbccab71-0d09-4db...|\n|      22|    Traveling|       22|         34|   Thunder|Imagine Dragons|2023-01-22 12:35:...|       34|f24d5e7d-c4d7-484...|\n+--------+-------------+---------+-----------+----------+---------------+--------------------+---------+--------------------+\nonly showing top 5 rows\n",
					"output_type": "stream"
				}
			]
		},
		{
			"cell_type": "code",
			"source": "try:\n    datasink = glueContext.write_dynamic_frame.from_options(\n        frame = joined_data_clean, connection_type = \"s3\",\n        connection_options = {\"path\": \"s3://asg-dataleke-demo-bucket-new/data/processed-data/\"},\n        format = \"parquet\")\n    print('Transformed data written to S3')\nexcept Exception as ex:\n    print('Something went wrong')\n    print(ex)",
			"metadata": {
				"trusted": true
			},
			"execution_count": 20,
			"outputs": [
				{
					"name": "stdout",
					"text": "Transformed data written to S3\n",
					"output_type": "stream"
				}
			]
		},
		{
			"cell_type": "code",
			"source": "\nglueclient = boto3.client('glue',region_name='us-east-1')\n\nresponse = glueclient.start_crawler(Name='summitcrawler')\n\nprint('---')\n\ncrawler_state = ''\nwhile (crawler_state != 'STOPPING'):\n    response = glueclient.get_crawler(Name='summitcrawler')\n    crawler_state = str(response['Crawler']['State'])\n    time.sleep(1)\n\nprint('Crawler : Stopped')\nprint('---')\ntime.sleep(3)\n",
			"metadata": {
				"trusted": true
			},
			"execution_count": 21,
			"outputs": [
				{
					"name": "stdout",
					"text": "---\nCrawler : Stopped\n---\n",
					"output_type": "stream"
				}
			]
		},
		{
			"cell_type": "code",
			"source": "\nprint('** Summitdb has following tables**')\nresponse = glueclient.get_tables(\n    DatabaseName='summitdb',\n)\n\nfor table in response['TableList']:\n    print(table['Name'])\n\n",
			"metadata": {
				"trusted": true
			},
			"execution_count": 22,
			"outputs": [
				{
					"name": "stdout",
					"text": "** Summitdb has following tables**\nraw2023\nreference_data\n",
					"output_type": "stream"
				}
			]
		},
		{
			"cell_type": "code",
			"source": "",
			"metadata": {},
			"execution_count": null,
			"outputs": []
		}
	]
}